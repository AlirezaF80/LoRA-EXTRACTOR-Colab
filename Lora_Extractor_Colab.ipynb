{
  "cells": [
    {
      "cell_type": "code",
      "execution_count": null,
      "metadata": {},
      "outputs": [],
      "source": [
        "from google.colab import drive\n",
        "drive.mount('/content/drive')"
      ]
    },
    {
      "cell_type": "code",
      "execution_count": null,
      "metadata": {
        "colab": {
          "base_uri": "https://localhost:8080/"
        },
        "id": "TUJqhd94EcQQ",
        "outputId": "6dd99eed-0ed3-4ae5-a486-862702cbcc88"
      },
      "outputs": [],
      "source": [
        "%cd /content/\n",
        "!rm /content/LoRA-EXTRACTOR-Colab/ -r -f\n",
        "!git clone https://github.com/AlirezaF80/LoRA-EXTRACTOR-Colab\n",
        "%cd /content/LoRA-EXTRACTOR-Colab"
      ]
    },
    {
      "cell_type": "code",
      "execution_count": null,
      "metadata": {
        "id": "bZMVWAXvHKj3"
      },
      "outputs": [],
      "source": [
        "# Install requirements\n",
        "!pip install -r requirements.txt --quiet"
      ]
    },
    {
      "cell_type": "code",
      "execution_count": null,
      "metadata": {},
      "outputs": [],
      "source": [
        "model_org = '/content/drive/MyDrive/sd/.../model.ckpt' #@param {type:\"string\"}\n",
        "model_tuned = '/content/drive/MyDrive/sd/.../model.ckpt' #@param {type:\"string\"}\n",
        "save_to = '/content/drive/MyDrive/sd/.../lora.ckpt' #@param {type:\"string\"}\n",
        "is_v2 = False #@param {type:\"boolean\"}\n",
        "threshold = 0.9 #@param {type:\"slider\", min:0.0, max:1.0, step:0.01}\n",
        "dim = 192 #@param {type:\"integer\"}\n",
        "save_precision = 'fp16' #@param ['fp16', 'bf16', 'float']"
      ]
    },
    {
      "cell_type": "code",
      "execution_count": null,
      "metadata": {},
      "outputs": [],
      "source": [
        "if is_v2:\n",
        "  !python ./lib/recommend_dimension.py --model_org $model_org --model_tuned $model_tuned --threshold $threshold --v2\n",
        "else:\n",
        "  !python ./lib/recommend_dimension.py --model_org $model_org --model_tuned $model_tuned --threshold $threshold"
      ]
    },
    {
      "cell_type": "code",
      "execution_count": null,
      "metadata": {
        "colab": {
          "base_uri": "https://localhost:8080/"
        },
        "id": "ADKxXMbsBr3J",
        "outputId": "120ffc06-c3ff-46b3-fddc-1d9b7cd6a31f"
      },
      "outputs": [],
      "source": [
        "if is_v2:\n",
        "    !python ./lib/extract_lora_from_models.py --save_precision $save_precision --dim $dim --model_org $model_org --model_tuned $model_tuned --save_to $save_to --v2\n",
        "else:\n",
        "    !python ./lib/extract_lora_from_models.py --save_precision $save_precision --dim $dim --model_org $model_org --model_tuned $model_tuned --save_to $save_to"
      ]
    }
  ],
  "metadata": {
    "colab": {
      "provenance": []
    },
    "kernelspec": {
      "display_name": "Python 3",
      "language": "python",
      "name": "python3"
    },
    "language_info": {
      "codemirror_mode": {
        "name": "ipython",
        "version": 3
      },
      "file_extension": ".py",
      "mimetype": "text/x-python",
      "name": "python",
      "nbconvert_exporter": "python",
      "pygments_lexer": "ipython3",
      "version": "3.9.7"
    },
    "vscode": {
      "interpreter": {
        "hash": "b61a9ccd4447726ce0fa3f589fcc68af22785a1cd7844028014041117cd800ce"
      }
    }
  },
  "nbformat": 4,
  "nbformat_minor": 0
}
