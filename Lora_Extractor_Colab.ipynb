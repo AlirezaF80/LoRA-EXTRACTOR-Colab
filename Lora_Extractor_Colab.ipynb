{
  "cells": [
    {
      "cell_type": "code",
      "execution_count": null,
      "metadata": {
        "colab": {
          "base_uri": "https://localhost:8080/"
        },
        "id": "TUJqhd94EcQQ",
        "outputId": "6dd99eed-0ed3-4ae5-a486-862702cbcc88"
      },
      "outputs": [],
      "source": [
        "!git clone https://github.com/AlirezaF80/LoRA-EXTRACTOR-Colab\n",
        "%cd /content/LoRA-EXTRACTOR-Colab"
      ]
    },
    {
      "cell_type": "code",
      "execution_count": null,
      "metadata": {
        "id": "bZMVWAXvHKj3"
      },
      "outputs": [],
      "source": [
        "!pip install einops\n",
        "!pip install albumentations\n",
        "!pip install accelerate\n",
        "!pip install diffusers\n",
        "!pip install transformers\n",
        "!pip install tqdm\n",
        "!pip install safetensors\n",
        "!pip install torchvision\n",
        "!pip install pytorch_lightning"
      ]
    },
    {
      "cell_type": "code",
      "execution_count": null,
      "metadata": {
        "colab": {
          "base_uri": "https://localhost:8080/"
        },
        "id": "ADKxXMbsBr3J",
        "outputId": "120ffc06-c3ff-46b3-fddc-1d9b7cd6a31f"
      },
      "outputs": [],
      "source": [
        "model_org = '/content/drive/MyDrive/sd/.../model.ckpt' #@param {type:\"string\"}\n",
        "model_tuned = '/content/drive/MyDrive/sd/.../model.ckpt' #@param {type:\"string\"}\n",
        "save_to = '/content/drive/MyDrive/sd/.../lora.ckpt' #@param {type:\"string\"}\n",
        "dim = 192 #@param {type:\"integer\", min:4, max:192, step:4}\n",
        "save_precision = 'fp16' #@param ['fp16', 'bf16', 'float']\n",
        "\n",
        "!python ./lib/extract_lora_from_models.py --save_precision $save_precision --dim $dim --model_org $model_org --model_tuned $model_tuned --save_to $save_to"
      ]
    }
  ],
  "metadata": {
    "colab": {
      "provenance": []
    },
    "kernelspec": {
      "display_name": "Python 3",
      "language": "python",
      "name": "python3"
    },
    "language_info": {
      "name": "python",
      "version": "3.9.7"
    },
    "vscode": {
      "interpreter": {
        "hash": "b61a9ccd4447726ce0fa3f589fcc68af22785a1cd7844028014041117cd800ce"
      }
    }
  },
  "nbformat": 4,
  "nbformat_minor": 0
}
